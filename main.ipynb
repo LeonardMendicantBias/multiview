{
 "cells": [
  {
   "cell_type": "code",
   "execution_count": 1,
   "metadata": {},
   "outputs": [],
   "source": [
    "%load_ext autoreload\n",
    "%autoreload 2"
   ]
  },
  {
   "cell_type": "code",
   "execution_count": 20,
   "metadata": {},
   "outputs": [],
   "source": [
    "import json\n",
    "from scipy.spatial.transform import Rotation as R  # rotation axis ??? left-hand / clockwise\n",
    "\n",
    "from base import Camera\n",
    "import numpy as np\n",
    "\n",
    "np.set_printoptions(suppress=True)"
   ]
  },
  {
   "cell_type": "code",
   "execution_count": 6,
   "metadata": {},
   "outputs": [
    {
     "name": "stdout",
     "output_type": "stream",
     "text": [
      "[0.0, 2.0, 5.0]\n",
      "[0.0, 2.0, 5.0]\n"
     ]
    }
   ],
   "source": [
    "with open('./data/solo/sequence.0/step0.frame_data.json') as json_file:\n",
    "    data = json.load(json_file)\n",
    "cameras = data['captures']\n",
    "\n",
    "for camera_info in cameras:\n",
    "    print(camera_info['position'])\n",
    "\n",
    "    camera = Camera(\n",
    "        position=camera_info['position'],\n",
    "        quaternion=camera_info['rotation'],\n",
    "        resolution=camera_info['dimension'],\n",
    "    )"
   ]
  },
  {
   "cell_type": "code",
   "execution_count": 42,
   "metadata": {},
   "outputs": [
    {
     "name": "stdout",
     "output_type": "stream",
     "text": [
      "[ 0.   0.  -0.2  0. ]\n"
     ]
    }
   ],
   "source": [
    "def qm(quaternion1, quaternion0):\n",
    "    w0, x0, y0, z0 = quaternion0\n",
    "    w1, x1, y1, z1 = quaternion1\n",
    "    \n",
    "    return np.array([\n",
    "        -x1*x0 - y1*y0 - z1*z0 + w1*w0,\n",
    "         x1*w0 + y1*z0 - z1*y0 + w1*x0,\n",
    "        -x1*z0 + y1*w0 + z1*x0 + w1*y0,\n",
    "         x1*y0 - y1*x0 + z1*w0 + w1*z0\n",
    "    ])\n",
    "\n",
    "q = np.array([0, 1, 0, 0])\n",
    "abc = [\n",
    "    np.array([0, 0, 0.2, 0]),\n",
    "]\n",
    "d = np.array([0, 2, 5])\n",
    "\n",
    "_inv = np.array([1, -1, -1, -1])\n",
    "print(\n",
    "    qm(qm(q, abc[0]), q*_inv)\n",
    ")"
   ]
  },
  {
   "cell_type": "code",
   "execution_count": 34,
   "metadata": {},
   "outputs": [
    {
     "name": "stdout",
     "output_type": "stream",
     "text": [
      "[0.         0.92387953 0.         0.38268343]\n",
      "[180.  45. 180.]\n",
      "[  0.   0. 135.]\n",
      "[135.   0.   0.]\n",
      "[135.   0.   0.]\n",
      "[  0.   0. 135.]\n",
      "[-180.   45.  180.]\n"
     ]
    }
   ],
   "source": [
    "r = R.from_euler('y', 135, degrees=True)\n",
    "print(r.as_quat())\n",
    "print(r.as_euler('xyz', degrees=True))\n",
    "print(r.as_euler('xzy', degrees=True))\n",
    "print(r.as_euler('yxz', degrees=True))\n",
    "print(r.as_euler('yzx', degrees=True))\n",
    "print(r.as_euler('zxy', degrees=True))\n",
    "print(r.as_euler('zyx', degrees=True))"
   ]
  },
  {
   "cell_type": "code",
   "execution_count": 22,
   "metadata": {},
   "outputs": [
    {
     "data": {
      "text/plain": [
       "array([0.        , 0.70710678, 0.        , 0.70710678])"
      ]
     },
     "execution_count": 22,
     "metadata": {},
     "output_type": "execute_result"
    }
   ],
   "source": [
    "r = R.from_euler('y', 90, degrees=True)\n",
    "r.as_quat()"
   ]
  }
 ],
 "metadata": {
  "kernelspec": {
   "display_name": "multiview",
   "language": "python",
   "name": "python3"
  },
  "language_info": {
   "codemirror_mode": {
    "name": "ipython",
    "version": 3
   },
   "file_extension": ".py",
   "mimetype": "text/x-python",
   "name": "python",
   "nbconvert_exporter": "python",
   "pygments_lexer": "ipython3",
   "version": "3.10.9"
  },
  "orig_nbformat": 4,
  "vscode": {
   "interpreter": {
    "hash": "d11ec425dbd7c1e29cdc7eb9a50bf2132ada736c862f08271155a0849fd563b8"
   }
  }
 },
 "nbformat": 4,
 "nbformat_minor": 2
}
