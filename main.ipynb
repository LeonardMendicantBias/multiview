{
 "cells": [
  {
   "cell_type": "code",
   "execution_count": 1,
   "metadata": {},
   "outputs": [],
   "source": [
    "%load_ext autoreload\n",
    "%autoreload 2"
   ]
  },
  {
   "cell_type": "code",
   "execution_count": 8,
   "metadata": {},
   "outputs": [],
   "source": [
    "import json\n",
    "from scipy.spatial.transform import Rotation as R  # rotation axis ??? left-hand / clockwise\n",
    "\n",
    "from base import Camera\n",
    "import numpy as np\n",
    "from matplotlib import pyplot as plt\n",
    "import matplotlib.image as mpimg\n",
    "import matplotlib.patches as patches\n",
    "\n",
    "np.set_printoptions(suppress=True)"
   ]
  },
  {
   "cell_type": "code",
   "execution_count": 20,
   "metadata": {},
   "outputs": [
    {
     "name": "stdout",
     "output_type": "stream",
     "text": [
      "[0.0, 2.0, 0.0]\n",
      "[array([1920., 1152.])]\n"
     ]
    }
   ],
   "source": [
    "def _find(l, s):\n",
    "    for elem in l:\n",
    "        if elem['id'] == s or elem['id'] == f'{s}_0':\n",
    "            values = elem['values']\n",
    "            for i, value in enumerate(values):\n",
    "                if value['labelName'] == 'cleaning_snuggle_henkel':\n",
    "                    break\n",
    "            else:\n",
    "                return None\n",
    "            return values[i]\n",
    "\n",
    "\n",
    "folder_dir = './data/solo_basic/sequence.0'\n",
    "with open(f'{folder_dir}/step0.frame_data.json') as json_file:\n",
    "    data = json.load(json_file)\n",
    "cameras = data['captures']\n",
    "\n",
    "for camera_info in cameras:\n",
    "    print(camera_info['position'])\n",
    "\n",
    "    camera = Camera(\n",
    "        position=camera_info['position'],\n",
    "        quaternion=camera_info['rotation'],\n",
    "        resolution=camera_info['dimension'],\n",
    "    )\n",
    "\n",
    "\n",
    "    raster_coor = camera.world_to_camera(\n",
    "        [\n",
    "            np.array([0, 2, 60, 0]),\n",
    "            # np.array([0, 2, 1.5, 2]),\n",
    "        ]\n",
    "    )\n",
    "    print(raster_coor)\n",
    "\n",
    "    # bbox_2d = _find(camera_info['annotations'], 'bounding box')    \n",
    "    # fig, ax = plt.subplots()\n",
    "    # ax.imshow(mpimg.imread(f'{folder_dir}/{camera_info[\"filename\"]}'))\n",
    "    # center, size = bbox_2d['origin'], [bbox/2 for bbox in bbox_2d['dimension']]\n",
    "    # ax.add_patch(\n",
    "    #     patches.Rectangle(\n",
    "    #         center,# + np.array([size[0], size[1]]),\n",
    "    #         2*size[0], 2*size[1],\n",
    "    #         linewidth=1, edgecolor='r', facecolor='none'\n",
    "    #     )\n",
    "    # )\n",
    "    # plt.axis('off')\n",
    "    # plt.show()\n",
    "    # print(center + np.array(size)/2)\n"
   ]
  },
  {
   "cell_type": "code",
   "execution_count": 17,
   "metadata": {},
   "outputs": [
    {
     "data": {
      "text/plain": [
       "[1886.0, 1027.0]"
      ]
     },
     "execution_count": 17,
     "metadata": {},
     "output_type": "execute_result"
    }
   ],
   "source": [
    "center"
   ]
  },
  {
   "cell_type": "code",
   "execution_count": null,
   "metadata": {},
   "outputs": [],
   "source": [
    "def qm(quaternion1, quaternion0):\n",
    "    w0, x0, y0, z0 = quaternion0\n",
    "    w1, x1, y1, z1 = quaternion1\n",
    "    \n",
    "    return np.array([\n",
    "        -x1*x0 - y1*y0 - z1*z0 + w1*w0,\n",
    "         x1*w0 - y1*z0 + z1*y0 + w1*x0,\n",
    "         x1*z0 + y1*w0 - z1*x0 + w1*y0,\n",
    "        -x1*y0 + y1*x0 + z1*w0 + w1*z0\n",
    "    ])\n",
    "\n",
    "q = np.array([0, 1, 0, 0])\n",
    "abc = [\n",
    "    np.array([0, 2, 1.5, 0]),\n",
    "]\n",
    "d = np.array([2, 2, 5])\n",
    "\n",
    "_inv = np.array([1, -1, -1, -1])\n",
    "print(\n",
    "    qm(qm(q, abc[0]), q*_inv), qm(qm(q, abc[0]), q*_inv)[1:] - d\n",
    ")"
   ]
  },
  {
   "cell_type": "code",
   "execution_count": null,
   "metadata": {},
   "outputs": [],
   "source": []
  }
 ],
 "metadata": {
  "kernelspec": {
   "display_name": "multiview",
   "language": "python",
   "name": "python3"
  },
  "language_info": {
   "codemirror_mode": {
    "name": "ipython",
    "version": 3
   },
   "file_extension": ".py",
   "mimetype": "text/x-python",
   "name": "python",
   "nbconvert_exporter": "python",
   "pygments_lexer": "ipython3",
   "version": "3.10.9"
  },
  "orig_nbformat": 4,
  "vscode": {
   "interpreter": {
    "hash": "d11ec425dbd7c1e29cdc7eb9a50bf2132ada736c862f08271155a0849fd563b8"
   }
  }
 },
 "nbformat": 4,
 "nbformat_minor": 2
}
