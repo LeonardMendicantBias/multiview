{
 "cells": [
  {
   "cell_type": "code",
   "execution_count": 1,
   "metadata": {},
   "outputs": [],
   "source": [
    "%load_ext autoreload\n",
    "%autoreload 2"
   ]
  },
  {
   "cell_type": "code",
   "execution_count": 2,
   "metadata": {},
   "outputs": [],
   "source": [
    "import json\n",
    "from scipy.spatial.transform import Rotation as R  # rotation axis ??? left-hand / clockwise\n",
    "\n",
    "from base import Camera\n",
    "import numpy as np\n",
    "from matplotlib import pyplot as plt\n",
    "import matplotlib.image as mpimg\n",
    "import matplotlib.patches as patches\n",
    "\n",
    "np.set_printoptions(suppress=True)"
   ]
  },
  {
   "cell_type": "code",
   "execution_count": 36,
   "metadata": {},
   "outputs": [
    {
     "name": "stdout",
     "output_type": "stream",
     "text": [
      "[1920. 1081.]\n",
      "[2453. 1081.]\n",
      "[1920.  548.]\n"
     ]
    }
   ],
   "source": [
    "def _find(l, s):\n",
    "    for elem in l:\n",
    "        if elem['id'] == s or elem['id'] == f'{s}_0':\n",
    "            values = elem['values']\n",
    "            for i, value in enumerate(values):\n",
    "                if value['labelName'] == 'cleaning_snuggle_henkel':\n",
    "                    break\n",
    "            else:\n",
    "                return None\n",
    "            return values[i]\n",
    "\n",
    "\n",
    "folder_dir = './data/solo_basic'\n",
    "\n",
    "for i in range(3):\n",
    "    f_dir = f'{folder_dir}/sequence.{i}'\n",
    "    with open(f'{f_dir}/step0.frame_data.json') as json_file:\n",
    "        data = json.load(json_file)\n",
    "    cameras = data['captures']\n",
    "\n",
    "    for camera_info in cameras:\n",
    "        # print('camera position', camera_info['position'])\n",
    "\n",
    "        camera = Camera(\n",
    "            position=camera_info['position'],\n",
    "            quaternion=camera_info['rotation'],\n",
    "            resolution=camera_info['dimension'],\n",
    "        )\n",
    "\n",
    "        # raster_coor = camera.world_to_camera(\n",
    "        #     [\n",
    "        #         np.array([0, 0, 15]),\n",
    "        #         # np.array([2, 1.5, 2]),\n",
    "        #     ]\n",
    "        # )\n",
    "\n",
    "        bbox_2d = _find(camera_info['annotations'], 'bounding box')\n",
    "        center, size = bbox_2d['origin'], np.array([bbox/2 for bbox in bbox_2d['dimension']])\n",
    "        # fig, ax = plt.subplots()\n",
    "        # ax.imshow(mpimg.imread(f'{folder_dir}/{camera_info[\"filename\"]}'))\n",
    "        # ax.add_patch(\n",
    "        #     patches.Rectangle(\n",
    "        #         center,\n",
    "        #         # raster_coor[0],\n",
    "        #         2*size[0], 2*size[1],\n",
    "        #         linewidth=1, edgecolor='r', facecolor='none'\n",
    "        #     )\n",
    "        # )\n",
    "        # plt.plot(\n",
    "        #     raster_coor[0][0], raster_coor[0][1],\n",
    "        #     \"o\", markersize=5, markeredgecolor=\"blue\", markerfacecolor=\"green\"\n",
    "        # )\n",
    "        # plt.axis('off')\n",
    "        # plt.show()\n",
    "        print(center + size/2)\n",
    "        # print(center + np.array(size)/2, np.array(size))\n",
    "        # print(raster_coor)\n",
    "\n",
    "        # print(raster_coor[0])\n"
   ]
  },
  {
   "cell_type": "code",
   "execution_count": 62,
   "metadata": {},
   "outputs": [
    {
     "name": "stdout",
     "output_type": "stream",
     "text": [
      "[1920. 1080.]\n",
      "[2219.298384 1080.      ]\n",
      "[1920.        780.701616]\n"
     ]
    }
   ],
   "source": [
    "camera_coor = [\n",
    "    np.array([0, 0, 15]),\n",
    "    np.array([3, 0, 15]),\n",
    "    np.array([0, 3, 15]),\n",
    "]\n",
    "\n",
    "focal = 20.78461\n",
    "resolution = np.array([3840, 2160])\n",
    "sensor = np.array([30, 30])\n",
    "intrinsic = np.array([\n",
    "    # [focal*resolution[0]/sensor[0], 0, resolution[0]/2, 0],\n",
    "    # [0, focal*resolution[1]/sensor[1], resolution[1]/2, 0],\n",
    "    # [0, 0, 1, 0],\n",
    "    ###\n",
    "    # [focal*resolution[0]/sensor[0], 0, resolution[0]/2],\n",
    "    # [0, focal*resolution[1]/sensor[1], resolution[1]/2],\n",
    "    # [0, 0, 1],\n",
    "    ###\n",
    "    # [focal*resolution[1]/sensor[0], 0, 0],\n",
    "    # [0, -focal*resolution[1]/sensor[1], 0],\n",
    "    # [0, 0, 1],\n",
    "    ###\n",
    "    [focal*resolution[0]/sensor[0], 0, 0],\n",
    "    [0, -focal*resolution[1]/sensor[1], 0],\n",
    "    [resolution[0]/2, resolution[1]/2, 1],\n",
    "])\n",
    "ndc_coor = [np.matmul(coor, intrinsic) for coor in camera_coor]\n",
    "\n",
    "pixel_coor = [(coor/coor[-1])[:-1] for coor in ndc_coor]\n",
    "# pixel_coor = [ \n",
    "#     np.array([\n",
    "#         coor[0] + resolution[0]/2,\n",
    "#         coor[1] + resolution[1]/2,\n",
    "#     ])\n",
    "#     for coor in ndc_coor\n",
    "# ]\n",
    "for coor in pixel_coor:\n",
    "    print(coor)"
   ]
  },
  {
   "cell_type": "code",
   "execution_count": null,
   "metadata": {},
   "outputs": [],
   "source": [
    "def qm(quaternion1, quaternion0):\n",
    "    w0, x0, y0, z0 = quaternion0\n",
    "    w1, x1, y1, z1 = quaternion1\n",
    "    \n",
    "    return np.array([\n",
    "        -x1*x0 - y1*y0 - z1*z0 + w1*w0,\n",
    "         x1*w0 - y1*z0 + z1*y0 + w1*x0,\n",
    "         x1*z0 + y1*w0 - z1*x0 + w1*y0,\n",
    "        -x1*y0 + y1*x0 + z1*w0 + w1*z0\n",
    "    ])\n",
    "\n",
    "q = np.array([0, 1, 0, 0])\n",
    "abc = [\n",
    "    np.array([0, 2, 1.5, 0]),\n",
    "]\n",
    "d = np.array([2, 2, 5])\n",
    "\n",
    "_inv = np.array([1, -1, -1, -1])\n",
    "print(\n",
    "    qm(qm(q, abc[0]), q*_inv), qm(qm(q, abc[0]), q*_inv)[1:] - d\n",
    ")"
   ]
  },
  {
   "cell_type": "code",
   "execution_count": null,
   "metadata": {},
   "outputs": [],
   "source": [
    "abc = np.array([1, 2, 3])\n",
    "np.insert(abc, 0, 0)"
   ]
  }
 ],
 "metadata": {
  "kernelspec": {
   "display_name": "multiview",
   "language": "python",
   "name": "python3"
  },
  "language_info": {
   "codemirror_mode": {
    "name": "ipython",
    "version": 3
   },
   "file_extension": ".py",
   "mimetype": "text/x-python",
   "name": "python",
   "nbconvert_exporter": "python",
   "pygments_lexer": "ipython3",
   "version": "3.10.9"
  },
  "orig_nbformat": 4,
  "vscode": {
   "interpreter": {
    "hash": "d11ec425dbd7c1e29cdc7eb9a50bf2132ada736c862f08271155a0849fd563b8"
   }
  }
 },
 "nbformat": 4,
 "nbformat_minor": 2
}
