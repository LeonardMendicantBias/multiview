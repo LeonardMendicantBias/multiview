{
 "cells": [
  {
   "cell_type": "code",
   "execution_count": 1,
   "metadata": {},
   "outputs": [],
   "source": [
    "import torch\n",
    "from torch.utils.data import Dataset, DataLoader\n",
    "from scipy.io import loadmat\n",
    "import numpy as np"
   ]
  },
  {
   "cell_type": "code",
   "execution_count": 2,
   "metadata": {},
   "outputs": [],
   "source": [
    "file_list = [\n",
    "    'C:/Users/Leonard/1.mat',\n",
    "    'C:/Users/Leonard/1.mat',\n",
    "]\n",
    "file_list_numpy = [\n",
    "    'C:/Users/Leonard/1',\n",
    "    'C:/Users/Leonard/1',\n",
    "]"
   ]
  },
  {
   "cell_type": "code",
   "execution_count": 6,
   "metadata": {},
   "outputs": [],
   "source": [
    "mat = loadmat(file_list[0])\n",
    "h_est_all = mat['h_est_all']\n",
    "h_data_all = mat['h_data_all']\n",
    "\n",
    "np.save(f'{file_list_numpy[0]}_est.npy', h_est_all)\n",
    "np.save(f'{file_list_numpy[0]}_data.npy', h_data_all)"
   ]
  },
  {
   "cell_type": "code",
   "execution_count": 12,
   "metadata": {},
   "outputs": [
    {
     "name": "stdout",
     "output_type": "stream",
     "text": [
      "999/1000\n",
      "29999/30000"
     ]
    }
   ],
   "source": [
    "class CustomDataset(Dataset):\n",
    "\n",
    "    def __init__(self, file_name):\n",
    "        self.est = np.load(f'{file_name}_est.npy', mmap_mode='r')\n",
    "        self.data = np.load(f'{file_name}_data.npy', mmap_mode='r')\n",
    "    \n",
    "    def __len__(self):\n",
    "        return self.est.shape[-1]\n",
    "    \n",
    "    def __getitem__(self, idx):\n",
    "        h_data_all = self.est[:, :, :, idx]\n",
    "        h_est_all = self.data[:, :, :, idx]\n",
    "\n",
    "        return h_data_all, h_est_all\n",
    "    \n",
    "dataset = CustomDataset(file_list_numpy[0])\n",
    "\n",
    "combine_dataset = torch.utils.data.ConcatDataset([dataset]*30)\n",
    "\n",
    "for i, sample in enumerate(dataset):\n",
    "    print(f'\\r{i}/{len(dataset)}', end='')\n",
    "print()\n",
    "for i, sample in enumerate(combine_dataset):\n",
    "    print(f'\\r{i}/{len(combine_dataset)}', end='')\n",
    "    # if i % 1000== 200:\n",
    "    #     print(sample[0][0,0,:])"
   ]
  },
  {
   "cell_type": "code",
   "execution_count": null,
   "metadata": {},
   "outputs": [],
   "source": []
  }
 ],
 "metadata": {
  "kernelspec": {
   "display_name": "openmmlab",
   "language": "python",
   "name": "python3"
  },
  "language_info": {
   "codemirror_mode": {
    "name": "ipython",
    "version": 3
   },
   "file_extension": ".py",
   "mimetype": "text/x-python",
   "name": "python",
   "nbconvert_exporter": "python",
   "pygments_lexer": "ipython3",
   "version": "3.10.9"
  },
  "orig_nbformat": 4
 },
 "nbformat": 4,
 "nbformat_minor": 2
}
